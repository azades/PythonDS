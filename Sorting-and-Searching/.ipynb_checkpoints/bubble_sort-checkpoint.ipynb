{
 "cells": [
  {
   "cell_type": "markdown",
   "metadata": {},
   "source": [
    "## Bubble Sort"
   ]
  },
  {
   "cell_type": "code",
   "execution_count": 1,
   "metadata": {},
   "outputs": [],
   "source": [
    "def bubbleSort(list):\n",
    "    for passnum in range(len(list)-1, 0, -1):\n",
    "        for i in range(passnum):\n",
    "            if list[i] > list[i+1]:\n",
    "                temp = list[i]\n",
    "                list[i] = list[i+1]\n",
    "                list[i+1] = temp    "
   ]
  },
  {
   "cell_type": "code",
   "execution_count": 2,
   "metadata": {},
   "outputs": [
    {
     "name": "stdout",
     "output_type": "stream",
     "text": [
      "Sorted List =  [17, 20, 26, 31, 44, 54, 55, 77, 93]\n"
     ]
    }
   ],
   "source": [
    "list = [54,26,93,17,77,31,44,55,20]\n",
    "bubbleSort(list)\n",
    "print('Sorted List = ', list)"
   ]
  },
  {
   "cell_type": "markdown",
   "metadata": {},
   "source": [
    "## Short Bubble Sort"
   ]
  },
  {
   "cell_type": "code",
   "execution_count": 3,
   "metadata": {},
   "outputs": [],
   "source": [
    "def shortBubbleSort(list):\n",
    "    exchange = True\n",
    "    passnum = len(list) - 1\n",
    "    while(passnum > 0 and exchange):\n",
    "        exchange = False\n",
    "        for i in range(passnum):\n",
    "            if list[i] > list[i+1]:\n",
    "                exchange = True\n",
    "                temp = list[i]\n",
    "                list[i] = list[i+1]\n",
    "                list[i+1] = temp\n",
    "                \n",
    "        passnum = passnum - 1"
   ]
  },
  {
   "cell_type": "code",
   "execution_count": 4,
   "metadata": {},
   "outputs": [
    {
     "name": "stdout",
     "output_type": "stream",
     "text": [
      "Sorted List =  [20, 30, 40, 50, 60, 70, 80, 90, 100, 110]\n"
     ]
    }
   ],
   "source": [
    "list = [20,30,40,90,50,60,70,80,100,110]\n",
    "shortBubbleSort(list)\n",
    "print('Sorted List = ', list)"
   ]
  }
 ],
 "metadata": {
  "kernelspec": {
   "display_name": "Python [conda env:anaconda3]",
   "language": "python",
   "name": "conda-env-anaconda3-py"
  },
  "language_info": {
   "codemirror_mode": {
    "name": "ipython",
    "version": 3
   },
   "file_extension": ".py",
   "mimetype": "text/x-python",
   "name": "python",
   "nbconvert_exporter": "python",
   "pygments_lexer": "ipython3",
   "version": "3.6.4"
  }
 },
 "nbformat": 4,
 "nbformat_minor": 2
}
