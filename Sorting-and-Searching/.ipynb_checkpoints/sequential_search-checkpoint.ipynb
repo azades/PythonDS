{
 "cells": [
  {
   "cell_type": "markdown",
   "metadata": {},
   "source": [
    "## Sequential Search"
   ]
  },
  {
   "cell_type": "code",
   "execution_count": 18,
   "metadata": {},
   "outputs": [],
   "source": [
    "def sequentialSearch(list, item):\n",
    "    \n",
    "    found = False\n",
    "    position = 0\n",
    "    \n",
    "    while  position < len(list) and not found:\n",
    "        \n",
    "        if list[position] == item:\n",
    "            found = True\n",
    "        else:\n",
    "            position = position + 1\n",
    "            \n",
    "    return found"
   ]
  },
  {
   "cell_type": "code",
   "execution_count": 20,
   "metadata": {},
   "outputs": [
    {
     "name": "stdout",
     "output_type": "stream",
     "text": [
      "False\n",
      "True\n"
     ]
    }
   ],
   "source": [
    "list = [1, 2, 32, 8, 17, 19, 42, 13, 0]\n",
    "print(sequentialSearch(list, 3))\n",
    "print(sequentialSearch(list, 13))"
   ]
  },
  {
   "cell_type": "markdown",
   "metadata": {},
   "source": [
    "## Ordered Sequentioal Search"
   ]
  },
  {
   "cell_type": "code",
   "execution_count": 21,
   "metadata": {},
   "outputs": [],
   "source": [
    "def orderedSequentialSearch(list, item):\n",
    "    \n",
    "    found = False\n",
    "    position = 0\n",
    "    stop = False\n",
    "    \n",
    "    while position < len(list) and not found and not stop:\n",
    "        if list[position] == item:\n",
    "            found = True\n",
    "        else:\n",
    "            if list[position] > item:\n",
    "                stop = True\n",
    "            else:\n",
    "                position = position + 1\n",
    "        \n",
    "    return found  "
   ]
  },
  {
   "cell_type": "code",
   "execution_count": 22,
   "metadata": {},
   "outputs": [
    {
     "name": "stdout",
     "output_type": "stream",
     "text": [
      "False\n",
      "True\n"
     ]
    }
   ],
   "source": [
    "list = [0, 1, 2, 8, 13, 17, 19, 32, 42,]\n",
    "print(orderedSequentialSearch(list, 3))\n",
    "print(orderedSequentialSearch(list, 13))"
   ]
  }
 ],
 "metadata": {
  "kernelspec": {
   "display_name": "Python [conda env:anaconda3]",
   "language": "python",
   "name": "conda-env-anaconda3-py"
  },
  "language_info": {
   "codemirror_mode": {
    "name": "ipython",
    "version": 3
   },
   "file_extension": ".py",
   "mimetype": "text/x-python",
   "name": "python",
   "nbconvert_exporter": "python",
   "pygments_lexer": "ipython3",
   "version": "3.6.4"
  }
 },
 "nbformat": 4,
 "nbformat_minor": 2
}
